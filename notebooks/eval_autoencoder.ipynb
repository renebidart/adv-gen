{
 "cells": [
  {
   "cell_type": "code",
   "execution_count": 2,
   "metadata": {},
   "outputs": [
    {
     "name": "stdout",
     "output_type": "stream",
     "text": [
      "cuda:1\n",
      "2\n",
      "0\n"
     ]
    }
   ],
   "source": [
    "import os\n",
    "import sys\n",
    "import pickle\n",
    "import numpy as np\n",
    "import pandas as pd\n",
    "from pathlib import Path\n",
    "import matplotlib.pyplot as plt\n",
    "from matplotlib.pyplot import imshow\n",
    "from IPython.display import display, HTML\n",
    "%reload_ext autoreload\n",
    "%autoreload 2\n",
    "%matplotlib inline\n",
    "\n",
    "# Nicer way to import the module?\n",
    "sys.path.append(str(Path.cwd().parent))\n",
    "from models.cifar import ResNet\n",
    "\n",
    "from utils.loading import load_net\n",
    "from utils.data import make_generators_DF_cifar\n",
    "from utils.train_val import validate_epoch\n",
    "from utils.evaluation import evaluate_adv_files_df, get_metrics\n",
    "from utils.display import load_image\n",
    "\n",
    "import torch\n",
    "from torch import nn\n",
    "from torch.autograd import Variable\n",
    "from torchvision import transforms\n",
    "\n",
    "import foolbox\n",
    "import json\n",
    "from PIL import Image\n",
    "\n",
    "device = torch.device(\"cuda:1\" if torch.cuda.is_available() else \"cpu\")\n",
    "print(device)\n",
    "print(torch.cuda.device_count())\n",
    "print(torch.cuda.current_device())"
   ]
  },
  {
   "cell_type": "code",
   "execution_count": 3,
   "metadata": {},
   "outputs": [],
   "source": [
    "model_loc = '/media/rene/data/adv_consistency/MNIST/mnist_normal/models/CVAE-1_16_32_64-16-MNIST-10_model_best.pth.tar'\n",
    "model = load_net(model_loc).to(device).eval()"
   ]
  },
  {
   "cell_type": "code",
   "execution_count": 4,
   "metadata": {},
   "outputs": [],
   "source": [
    "files_df_loc = '/media/rene/data/adv_consistency/MNIST/mnist_normal/files_df.pkl'\n",
    "\n",
    "with open(files_df_loc, 'rb') as f:\n",
    "    files_df = pickle.load(f)"
   ]
  },
  {
   "cell_type": "code",
   "execution_count": 5,
   "metadata": {},
   "outputs": [],
   "source": [
    "def display_results_auto(vae_model, files_df, num_samples=5, label_col_name='class'):\n",
    "    size = 32\n",
    "    # ??? Why the fuck???\n",
    "    with torch.cuda.device(1):\n",
    "        def read_img(img_path, bw=False, pytorch_format=False):\n",
    "            if bw:\n",
    "                img = np.asarray(Image.open(img_path))\n",
    "                img = img / 255.\n",
    "            else:\n",
    "                img = np.asarray(Image.open(img_path).convert('RGB'), Image.ANTIALIAS)\n",
    "                img = np.moveaxis(img, 2, 0) / 255.    \n",
    "            return img\n",
    "        \n",
    "        def torch_to_np(img):\n",
    "            \"\"\"image tensor -> numpy format to display (channels last, 0-1)\"\"\"\n",
    "            img = img.cpu().detach().numpy()\n",
    "            img = np.squeeze(img) / 255.\n",
    "            if len(img.shape)>2:\n",
    "                img = np.moveaxis(img, 0, 2)\n",
    "            return img\n",
    "      \n",
    "\n",
    "        all_labels = files_df[label_col_name].unique()\n",
    "        num_labels = len(all_labels)\n",
    "        row_names = []\n",
    "        col_names = ['Original', \"Reconstructed\"]\n",
    "\n",
    "        fig, ax = plt.subplots(num_samples, 2, sharex='col', sharey='row',figsize=(10,10))\n",
    "\n",
    "        for i, label in enumerate(all_labels[0:num_samples]):\n",
    "            sample_df = files_df.loc[files_df[label_col_name] == label].sample(n=1)\n",
    "            img_path = sample_df['path'].iloc[0]\n",
    "            label = sample_df[label_col_name].iloc[0]\n",
    "            row_names.append(label)\n",
    "\n",
    "            if model.layer_sizes[0] == 1:\n",
    "                img = read_img(img_path, bw=True)\n",
    "                # MNIST\n",
    "                transform = transforms.Compose([\n",
    "                                                transforms.Resize(size),\n",
    "                                                transforms.ToTensor(),\n",
    "                                                transforms.Normalize((0.1307,), (0.3081,))])\n",
    "            else:\n",
    "                img = read_img(img_path, bw=True, pytorch_format=False)\n",
    "\n",
    "            tensor_img = transform(Image.open(img_path)).unsqueeze(0).to(device)\n",
    "            tensor_label = torch.from_numpy(np.array(label)).unsqueeze(0).type(torch.LongTensor).to(device)\n",
    "            recon_x, mu, logvar = model(tensor_img, tensor_label)\n",
    "            \n",
    "\n",
    "            ax[i, 0].imshow(img)\n",
    "            ax[i, 1].imshow(torch_to_np(recon_x))\n",
    "            ax[i, 0].axis('off')\n",
    "            ax[i, 1].axis('off')\n",
    "\n",
    "        for curr_ax, col in zip(ax[0], col_names):\n",
    "            curr_ax.set_title(col)\n",
    "\n",
    "        for curr_ax, row in zip(ax[:,0], row_names):\n",
    "            curr_ax.set_ylabel(row, rotation=0, size='large')\n",
    "            "
   ]
  },
  {
   "cell_type": "code",
   "execution_count": 6,
   "metadata": {},
   "outputs": [
    {
     "name": "stderr",
     "output_type": "stream",
     "text": [
      "/media/rene/ADV/lib/python3.6/site-packages/torch/nn/modules/upsampling.py:177: UserWarning: nn.UpsamplingNearest2d is deprecated. Use nn.functional.interpolate instead.\n",
      "  warnings.warn(\"nn.UpsamplingNearest2d is deprecated. Use nn.functional.interpolate instead.\")\n",
      "/media/rene/ADV/lib/python3.6/site-packages/torch/nn/modules/upsampling.py:122: UserWarning: nn.Upsampling is deprecated. Use nn.functional.interpolate instead.\n",
      "  warnings.warn(\"nn.Upsampling is deprecated. Use nn.functional.interpolate instead.\")\n",
      "/media/rene/ADV/lib/python3.6/site-packages/torch/nn/functional.py:1006: UserWarning: nn.functional.sigmoid is deprecated. Use torch.sigmoid instead.\n",
      "  warnings.warn(\"nn.functional.sigmoid is deprecated. Use torch.sigmoid instead.\")\n"
     ]
    },
    {
     "data": {
      "image/png": "[encoded data removed]",
      "text/plain": [
       "<Figure size 720x720 with 6 Axes>"
      ]
     },
     "metadata": {},
     "output_type": "display_data"
    }
   ],
   "source": [
    "display_results_auto(model, files_df['val'], num_samples=3)"
   ]
  },
  {
   "cell_type": "code",
   "execution_count": 7,
   "metadata": {},
   "outputs": [
    {
     "name": "stderr",
     "output_type": "stream",
     "text": [
      "/media/rene/ADV/lib/python3.6/site-packages/torch/nn/modules/upsampling.py:177: UserWarning: nn.UpsamplingNearest2d is deprecated. Use nn.functional.interpolate instead.\n",
      "  warnings.warn(\"nn.UpsamplingNearest2d is deprecated. Use nn.functional.interpolate instead.\")\n",
      "/media/rene/ADV/lib/python3.6/site-packages/torch/nn/modules/upsampling.py:122: UserWarning: nn.Upsampling is deprecated. Use nn.functional.interpolate instead.\n",
      "  warnings.warn(\"nn.Upsampling is deprecated. Use nn.functional.interpolate instead.\")\n",
      "/media/rene/ADV/lib/python3.6/site-packages/torch/nn/functional.py:1006: UserWarning: nn.functional.sigmoid is deprecated. Use torch.sigmoid instead.\n",
      "  warnings.warn(\"nn.functional.sigmoid is deprecated. Use torch.sigmoid instead.\")\n"
     ]
    },
    {
     "data": {
      "image/png": "[encoded data removed]",
      "text/plain": [
       "<Figure size 720x720 with 6 Axes>"
      ]
     },
     "metadata": {},
     "output_type": "display_data"
    }
   ],
   "source": [
    "display_results_auto(model, files_df['val'], num_samples=3)"
   ]
  },
  {
   "cell_type": "code",
   "execution_count": null,
   "metadata": {},
   "outputs": [],
   "source": []
  }
 ],
 "metadata": {
  "kernelspec": {
   "display_name": "ADV",
   "language": "python",
   "name": "adv"
  }
 },
 "nbformat": 4,
 "nbformat_minor": 2
}
