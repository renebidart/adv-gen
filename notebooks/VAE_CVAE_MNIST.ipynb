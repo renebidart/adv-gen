{
 "cells": [
  {
   "cell_type": "markdown",
   "metadata": {},
   "source": [
    "# Generative Models Classification Accuracy - MNIST\n",
    "* Using a sample of MNIST test set - 600 imgs\n",
    "\n",
    "**Future**\n",
    "* No optimization of KLD weighting\n",
    "* No attempt to start with a good initialization\n",
    "* Using 50 iterations and 50 restarts for each image"
   ]
  },
  {
   "cell_type": "code",
   "execution_count": 9,
   "metadata": {},
   "outputs": [
    {
     "name": "stdout",
     "output_type": "stream",
     "text": [
      "cuda:1\n",
      "0\n"
     ]
    }
   ],
   "source": [
    "import os\n",
    "import sys\n",
    "import pickle\n",
    "import numpy as np\n",
    "import pandas as pd\n",
    "from tqdm import tqdm\n",
    "from pathlib import Path\n",
    "import matplotlib.pyplot as plt\n",
    "from matplotlib.pyplot import imshow\n",
    "from IPython.display import display, HTML\n",
    "%reload_ext autoreload\n",
    "%autoreload 2\n",
    "%matplotlib inline\n",
    "\n",
    "# Nicer way to import the module?\n",
    "sys.path.append(str(Path.cwd().parent))\n",
    "from utils.loading import load_net\n",
    "from utils.data import make_generators_DF_MNIST\n",
    "from utils.display import torch_to_np, show_imgs\n",
    "from models.generative_classify import optimize_latent_cvae, gen_classify_cvae, optimize_latent, gen_classify\n",
    "\n",
    "import torch\n",
    "from torch import nn\n",
    "from torch.autograd import Variable\n",
    "from torchvision import transforms\n",
    "from torch.nn import functional as F\n",
    "import torch.optim as optim\n",
    "\n",
    "import foolbox\n",
    "import json\n",
    "from PIL import Image\n",
    "\n",
    "device = torch.device(\"cuda:1\" if torch.cuda.is_available() else \"cpu\")\n",
    "print(device)\n",
    "print(torch.cuda.current_device())"
   ]
  },
  {
   "cell_type": "markdown",
   "metadata": {},
   "source": [
    "## CVAE\n",
    "* Switch to normal batches???"
   ]
  },
  {
   "cell_type": "code",
   "execution_count": 2,
   "metadata": {},
   "outputs": [],
   "source": [
    "def eval_gen_cvae(dataloader, model, labels, device, num_times=50, iterations=50, latent_size=16):\n",
    "    model.eval()\n",
    "    all_results = pd.DataFrame()\n",
    "    \n",
    "    with torch.no_grad():\n",
    "        for i, (tensor_img, label, path) in enumerate(tqdm(dataloader)):\n",
    "            path = path[0]\n",
    "            \n",
    "            tensor_img = tensor_img.to(device)\n",
    "            results, predicted_label = gen_classify_cvae(tensor_img, labels, model, num_times=num_times, \n",
    "                                                         iterations=iterations, latent_size=latent_size, \n",
    "                                                         device=device, KLD_weight=1)\n",
    "                        \n",
    "            for i, true_label in enumerate(label): \n",
    "                all_results = all_results.append({'path': path, \n",
    "                                                  'true_label': int(true_label.cpu().numpy()),\n",
    "                                                  'predicted_label': int(predicted_label), \n",
    "                                                 }, ignore_index=True)\n",
    "    return all_results"
   ]
  },
  {
   "cell_type": "code",
   "execution_count": 12,
   "metadata": {},
   "outputs": [],
   "source": [
    "model_loc = '/media/rene/data/adv_gen/MNIST/mnist_normal/models/CVAE-1_16_32_64-16-MNIST-10_model_best.pth.tar'\n",
    "model = load_net(model_loc).to(device).eval()\n",
    "\n",
    "files_df_loc = '/media/rene/data/adv_gen/MNIST/mnist_normal/files_df.pkl'\n",
    "with open(files_df_loc, 'rb') as f:\n",
    "    files_df = pickle.load(f)\n",
    "    \n",
    "files_df['val'] = files_df['val'].sample(n=100)\n",
    "\n",
    "dataloaders = make_generators_DF_MNIST(files_df, batch_size=1, num_workers=2, size=32,\n",
    "                                       path_colname='path', adv_path_colname=None, return_loc=True, bw=True)\n",
    "\n",
    "labels = list(range(10))\n",
    "\n",
    "with torch.cuda.device(1):\n",
    "    results = eval_gen_cvae(dataloaders['val'], model, labels, device, num_times=50, iterations=50, latent_size=16)\n",
    "    \n",
    "SAVE_PATH = '/media/rene/data/adv_gen/MNIST/mnist_normal/models'\n",
    "pickle.dump(results, open(str(SAVE_PATH)+'/'+'CVAE-1_16_32_64-16-MNIST-10_model_best'+'_100_'+'results.pkl', \"wb\"))"
   ]
  },
  {
   "cell_type": "code",
   "execution_count": 11,
   "metadata": {},
   "outputs": [
    {
     "data": {
      "text/plain": [
       "0.88"
      ]
     },
     "execution_count": 11,
     "metadata": {},
     "output_type": "execute_result"
    }
   ],
   "source": [
    "acc = len(results[results['predicted_label']==results['true_label']])/len(results)\n",
    "acc"
   ]
  },
  {
   "cell_type": "code",
   "execution_count": 6,
   "metadata": {},
   "outputs": [],
   "source": [
    "def eval_gen_vae(dataloader, model_dict, device, num_times=50, iterations=50, latent_size=16):\n",
    "    all_results = pd.DataFrame()\n",
    "    \n",
    "    with torch.no_grad():\n",
    "        for i, (tensor_img, label, path) in enumerate(tqdm(dataloader)):\n",
    "            path = path[0]\n",
    "            \n",
    "            tensor_img = tensor_img.to(device)\n",
    "            results, predicted_label = gen_classify(tensor_img, model_dict,\n",
    "                                          num_times=50, iterations=50,\n",
    "                                          latent_size=16, device=device, KLD_weight=1)\n",
    "            \n",
    "            \n",
    "                        \n",
    "            for i, true_label in enumerate(label): \n",
    "                all_results = all_results.append({'path': path, \n",
    "                                                  'true_label': int(true_label.cpu().numpy()),\n",
    "                                                  'predicted_label': int(predicted_label), \n",
    "                                                 }, ignore_index=True)\n",
    "    return all_results"
   ]
  },
  {
   "cell_type": "code",
   "execution_count": null,
   "metadata": {},
   "outputs": [
    {
     "name": "stderr",
     "output_type": "stream",
     "text": [
      " 32%|███▏      | 32/100 [13:31<28:44, 25.36s/it]"
     ]
    }
   ],
   "source": [
    "save_path = Path('/media/rene/data/adv_gen/MNIST/mnist_normal/models/')\n",
    "model_dict = {}\n",
    "all_recon = []\n",
    "\n",
    "for label in range(10):\n",
    "    model_name = 'VAE-1_16_32_64-16-MNIST_label_'+str(label)+'_model_best.pth.tar'\n",
    "    model_loc = save_path / model_name\n",
    "    model_dict[label] = load_net(model_loc).to(device).eval()\n",
    "    \n",
    "files_df_loc = '/media/rene/data/adv_gen/MNIST/mnist_normal/files_df.pkl'\n",
    "with open(files_df_loc, 'rb') as f:\n",
    "    files_df = pickle.load(f)\n",
    "    \n",
    "files_df['val'] = files_df['val'].sample(n=100)\n",
    "\n",
    "dataloaders = make_generators_DF_MNIST(files_df, batch_size=1, num_workers=2, size=32,\n",
    "                                       path_colname='path', adv_path_colname=None, return_loc=True, bw=True)\n",
    "\n",
    "with torch.cuda.device(1):\n",
    "    results = eval_gen_vae(dataloaders['val'], model_dict, device, num_times=50, iterations=50, latent_size=16)\n",
    "\n",
    "    \n",
    "SAVE_PATH = '/media/rene/data/adv_gen/MNIST/mnist_normal/models'\n",
    "pickle.dump(results, open(str(SAVE_PATH)+'/'+'VAE-1_16_32_64-16-MNIST-10_model_best'+'_100_'+'results.pkl', \"wb\"))"
   ]
  },
  {
   "cell_type": "code",
   "execution_count": 10,
   "metadata": {},
   "outputs": [
    {
     "data": {
      "text/plain": [
       "0.85"
      ]
     },
     "execution_count": 10,
     "metadata": {},
     "output_type": "execute_result"
    }
   ],
   "source": [
    "file = open(\"/media/rene/data/adv_gen/MNIST/mnist_normal/models/VAE-1_16_32_64-16-MNIST-10_model_best_100_results.pkl\",'rb')\n",
    "results = pickle.load(file)\n",
    "\n",
    "acc = len(results[results['predicted_label']==results['true_label']])/len(results)\n",
    "acc"
   ]
  },
  {
   "cell_type": "code",
   "execution_count": null,
   "metadata": {},
   "outputs": [],
   "source": [
    "Test a normal VAE too of MNIST for accuracy using this -- Should be a script???\n",
    "---Ask the weird variable thing on pytorch form if needed\n",
    "git add\n",
    "Figure out how to do proper adversarial attacks.\n",
    "Review stuff?"
   ]
  }
 ],
 "metadata": {
  "kernelspec": {
   "display_name": "ADV",
   "language": "python",
   "name": "adv"
  },
  "language_info": {
   "codemirror_mode": {
    "name": "ipython",
    "version": 3
   },
   "file_extension": ".py",
   "mimetype": "text/x-python",
   "name": "python",
   "nbconvert_exporter": "python",
   "pygments_lexer": "ipython3",
   "version": "3.6.3"
  }
 },
 "nbformat": 4,
 "nbformat_minor": 2
}
