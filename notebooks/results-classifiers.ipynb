{
 "cells": [
  {
   "cell_type": "markdown",
   "metadata": {},
   "source": [
    "# Evaluate Generative Classifiers on Non-Adversarial Samples"
   ]
  },
  {
   "cell_type": "code",
   "execution_count": 2,
   "metadata": {},
   "outputs": [
    {
     "name": "stdout",
     "output_type": "stream",
     "text": [
      "cuda:1\n",
      "0\n"
     ]
    }
   ],
   "source": [
    "import os\n",
    "import sys\n",
    "import pickle\n",
    "import numpy as np\n",
    "import pandas as pd\n",
    "from pathlib import Path\n",
    "import matplotlib.pyplot as plt\n",
    "from matplotlib.pyplot import imshow\n",
    "from IPython.display import display, HTML\n",
    "%reload_ext autoreload\n",
    "%autoreload 2\n",
    "%matplotlib inline\n",
    "\n",
    "# Nicer way to import the module?\n",
    "sys.path.append(str(Path.cwd().parent))\n",
    "from utils.loading import load_net\n",
    "from utils.display import torch_to_np, show_imgs\n",
    "from models.generative_classify import optimize_latent_cvae, gen_classify_cvae, optimize_latent, gen_classify\n",
    "\n",
    "import torch\n",
    "from torch import nn\n",
    "from torch.autograd import Variable\n",
    "from torchvision import transforms\n",
    "from torch.nn import functional as F\n",
    "import torch.optim as optim\n",
    "\n",
    "import foolbox\n",
    "import json\n",
    "from PIL import Image\n",
    "\n",
    "device = torch.device(\"cuda:1\" if torch.cuda.is_available() else \"cpu\")\n",
    "print(device)\n",
    "print(torch.cuda.current_device())\n",
    "\n",
    "BASE_PATH = Path('/media/rene/data/adv_gen/MNIST/mnist_normal/models')"
   ]
  },
  {
   "cell_type": "markdown",
   "metadata": {},
   "source": [
    "## CVAE Results"
   ]
  },
  {
   "cell_type": "code",
   "execution_count": 29,
   "metadata": {},
   "outputs": [
    {
     "name": "stdout",
     "output_type": "stream",
     "text": [
      "Number of times: 10, Accuracy 0.77\n",
      "Number of times: 100, Accuracy 0.88\n",
      "Number of times: 200, Accuracy 0.94\n",
      "Number of times: 1000, Accuracy 0.95\n",
      "Number of times: 100: newmodel, Accuracy 0.8333333333333334\n",
      "Number of times: 202: newmodel, Accuracy 0.31683168316831684\n"
     ]
    }
   ],
   "source": [
    "results= {}\n",
    "results[10] = pickle.load(open(BASE_PATH / 'CVAE-1_16_32_64-16-MNIST_iter50_nt10_nsamp100_results.pkl', \"rb\"))\n",
    "results[100] = pickle.load(open(BASE_PATH / 'CVAE-1_16_32_64-16-MNIST-10_model_best_100__results.pkl', \"rb\"))\n",
    "results[200] = pickle.load(open(BASE_PATH / 'CVAE-1_16_32_64-16-MNIST_iter50_nt200_nsamp100_results.pkl', \"rb\"))\n",
    "results[1000] = pickle.load(open(BASE_PATH / 'CVAE-1_16_32_64-16-MNIST_iter50_nt1000_nsamp100_results.pkl', \"rb\"))\n",
    "results['100: newmodel'] = pickle.load(open(BASE_PATH / 'CVAE-1_16_32_64-16-MNIST_iter50_nt100_nsamp120_results.pkl', \"rb\"))\n",
    "results['202: newmodel'] = pickle.load(open(BASE_PATH / 'CVAE-1_16_32_64-16-MNIST_iter50_nt100_nsamp202_results.pkl', \"rb\"))\n",
    "\n",
    "\n",
    "\n",
    "for n_t, result in results.items():\n",
    "    acc = len(result[result['predicted_label']==result['true_label']])/len(result)\n",
    "    print(f'Number of times: {n_t}, Accuracy {acc}')\n"
   ]
  },
  {
   "cell_type": "code",
   "execution_count": 9,
   "metadata": {},
   "outputs": [
    {
     "name": "stdout",
     "output_type": "stream",
     "text": [
      "Number of times: 10, Accuracy 0.7\n",
      "Number of times: 25, Accuracy 0.765\n",
      "Number of times: 50, Accuracy 0.86\n",
      "Number of times: 100, Accuracy 0.86\n",
      "Deterministic: Number of times: 10, Accuracy 0.775\n",
      "Deterministic: Number of times: 25, Accuracy 0.885\n",
      "Deterministic: Number of times: 50, Accuracy 0.855\n",
      "Deterministic: Number of times: 100, Accuracy 0.91\n"
     ]
    }
   ],
   "source": [
    "results= {}\n",
    "results[10] = pickle.load(open(BASE_PATH/'CVAE-1_16_32_64-16-MNIST_iter50_nt10_nsamp200_results.pkl', \"rb\"))\n",
    "results[25] = pickle.load(open(BASE_PATH/'CVAE-1_16_32_64-16-MNIST_iter50_nt25_nsamp200_results.pkl', \"rb\"))\n",
    "results[50] = pickle.load(open(BASE_PATH/'CVAE-1_16_32_64-16-MNIST_iter50_nt50_nsamp200_results.pkl', \"rb\"))\n",
    "results[100] = pickle.load(open(BASE_PATH/'CVAE-1_16_32_64-16-MNIST_iter50_nt100_nsamp200_results.pkl', \"rb\"))\n",
    "\n",
    "results_d= {}\n",
    "results_d[10] = pickle.load(open(BASE_PATH/'CVAE-1_16_32_64-16-MNIST_iter50_nt10_nsamp200_deter_results.pkl', \"rb\"))\n",
    "results_d[25] = pickle.load(open(BASE_PATH/'CVAE-1_16_32_64-16-MNIST_iter50_nt25_nsamp200_deter_results.pkl', \"rb\"))\n",
    "results_d[50] = pickle.load(open(BASE_PATH/'CVAE-1_16_32_64-16-MNIST_iter50_nt50_nsamp200_deter_results.pkl', \"rb\"))\n",
    "results_d[100] = pickle.load(open(BASE_PATH/'CVAE-1_16_32_64-16-MNIST_iter50_nt100_nsamp200_deter_results.pkl', \"rb\"))\n",
    "\n",
    "for n_t, result in results.items():\n",
    "    acc = len(result[result['predicted_label']==result['true_label']])/len(result)\n",
    "    print(f'Number of times: {n_t}, Accuracy {acc}')\n",
    "    \n",
    "for n_t, result in results_d.items():\n",
    "    acc = len(result[result['predicted_label']==result['true_label']])/len(result)\n",
    "    print(f'Deterministic: Number of times: {n_t}, Accuracy {acc}')"
   ]
  },
  {
   "cell_type": "markdown",
   "metadata": {},
   "source": [
    "## Paper VAE_ABS Results"
   ]
  },
  {
   "cell_type": "code",
   "execution_count": 27,
   "metadata": {},
   "outputs": [
    {
     "name": "stdout",
     "output_type": "stream",
     "text": [
      "Number of times: 10, Accuracy 0.74\n",
      "Number of times: 100, Accuracy 0.86\n",
      "Number of times: 1000, Accuracy 0.98\n",
      "Number of times: 100: newmodel, Accuracy 0.26666666666666666\n",
      "Number of times: 88: old stochastic, Accuracy 0.8977272727272727\n",
      "Number of times: 100: stochastic, Accuracy 0.195\n",
      "Number of times: 100: not stochastic, Accuracy 0.3811881188118812\n"
     ]
    }
   ],
   "source": [
    "results= {}\n",
    "results[10] = pickle.load(open(BASE_PATH/'VAE_ABS'/'VAE_ABS--8_iter50_nt10_nsamp100_results.pkl', \"rb\"))\n",
    "results[100] = pickle.load(open(BASE_PATH/'VAE_ABS'/'VAE_ABS--8_iter50_nt100_nsamp100_results.pkl', \"rb\"))\n",
    "results[1000] = pickle.load(open(BASE_PATH/'VAE_ABS'/'VAE_ABS--8_iter50_nt1000_nsamp100_results.pkl', \"rb\"))\n",
    "results['100: newmodel'] = pickle.load(open(BASE_PATH/'VAE_ABS'/'VAE_ABS--8_iter50_nt100_nsamp120_results.pkl', \"rb\"))\n",
    "results['88: old stochastic'] = pickle.load(open(BASE_PATH/'VAE_ABS'/'VAE_ABS--8_iter50_nt100_nsamp88_results.pkl', \"rb\"))\n",
    "\n",
    "\n",
    "results['100: stochastic'] = pickle.load(open(BASE_PATH/'VAE_ABS'/'VAE_ABS--8_iter50_nt100_nsamp200_results.pkl', \"rb\"))\n",
    "results['100: not stochastic'] = pickle.load(open(BASE_PATH/'VAE_ABS'/'VAE_ABS--8_iter50_nt100_nsamp202_results.pkl', \"rb\"))\n",
    "\n",
    "\n",
    "for n_t, result in results.items():\n",
    "    acc = len(result[result['predicted_label']==result['true_label']])/len(result)\n",
    "    print(f'Number of times: {n_t}, Accuracy {acc}')"
   ]
  },
  {
   "cell_type": "code",
   "execution_count": 7,
   "metadata": {},
   "outputs": [
    {
     "name": "stdout",
     "output_type": "stream",
     "text": [
      "Number of times: 10, Accuracy 0.695\n",
      "Number of times: 25, Accuracy 0.835\n",
      "Number of times: 50, Accuracy 0.84\n",
      "Number of times: 100, Accuracy 0.89\n",
      "Deterministic: Number of times: 10, Accuracy 0.84\n",
      "Deterministic: Number of times: 25, Accuracy 0.855\n",
      "Deterministic: Number of times: 50, Accuracy 0.895\n",
      "Deterministic: Number of times: 100, Accuracy 0.94\n"
     ]
    }
   ],
   "source": [
    "results= {}\n",
    "results[10] = pickle.load(open(BASE_PATH/'VAE_ABS'/'VAE_ABS--8_iter50_nt10_nsamp200_results.pkl', \"rb\"))\n",
    "results[25] = pickle.load(open(BASE_PATH/'VAE_ABS'/'VAE_ABS--8_iter50_nt25_nsamp200_results.pkl', \"rb\"))\n",
    "results[50] = pickle.load(open(BASE_PATH/'VAE_ABS'/'VAE_ABS--8_iter50_nt50_nsamp200_results.pkl', \"rb\"))\n",
    "results[100] = pickle.load(open(BASE_PATH/'VAE_ABS'/'VAE_ABS--8_iter50_nt100_nsamp200_results.pkl', \"rb\"))\n",
    "\n",
    "results_d= {}\n",
    "results_d[10] = pickle.load(open(BASE_PATH/'VAE_ABS'/'VAE_ABS--8_iter50_nt10_nsamp200_deter_results.pkl', \"rb\"))\n",
    "results_d[25] = pickle.load(open(BASE_PATH/'VAE_ABS'/'VAE_ABS--8_iter50_nt25_nsamp200_deter_results.pkl', \"rb\"))\n",
    "results_d[50] = pickle.load(open(BASE_PATH/'VAE_ABS'/'VAE_ABS--8_iter50_nt50_nsamp200_deter_results.pkl', \"rb\"))\n",
    "results_d[100] = pickle.load(open(BASE_PATH/'VAE_ABS'/'VAE_ABS--8_iter50_nt100_nsamp200_deter_results.pkl', \"rb\"))\n",
    "\n",
    "for n_t, result in results.items():\n",
    "    acc = len(result[result['predicted_label']==result['true_label']])/len(result)\n",
    "    print(f'Number of times: {n_t}, Accuracy {acc}')\n",
    "    \n",
    "for n_t, result in results_d.items():\n",
    "    acc = len(result[result['predicted_label']==result['true_label']])/len(result)\n",
    "    print(f'Deterministic: Number of times: {n_t}, Accuracy {acc}')"
   ]
  },
  {
   "cell_type": "markdown",
   "metadata": {},
   "source": [
    "## VAE"
   ]
  },
  {
   "cell_type": "code",
   "execution_count": 26,
   "metadata": {},
   "outputs": [
    {
     "name": "stdout",
     "output_type": "stream",
     "text": [
      "Number of times: 10, Accuracy 0.75\n",
      "Number of times: 100, Accuracy 0.89\n",
      "Number of times: 200, Accuracy 0.86\n",
      "Number of times: 100: newmodel, Accuracy 0.19166666666666668\n",
      "Number of times: 100: stochastic, Accuracy 0.17\n",
      "Number of times: 100: not stochastic, Accuracy 0.31683168316831684\n"
     ]
    }
   ],
   "source": [
    "results= {}\n",
    "results[10] = pickle.load(open(BASE_PATH/'VAE-1_16_32_64-16-MNIST'/'VAE-1_16_32_64-16_iter50_nt10_nsamp100_results.pkl', \"rb\"))\n",
    "results[100] = pickle.load(open(BASE_PATH/'VAE-1_16_32_64-16-MNIST'/'VAE-1_16_32_64-16_iter50_nt100_nsamp100_results.pkl', \"rb\"))\n",
    "results[200] = pickle.load(open(BASE_PATH/'VAE-1_16_32_64-16-MNIST'/'VAE-1_16_32_64-16_iter50_nt200_nsamp100_results.pkl', \"rb\"))\n",
    "results['100: newmodel'] = pickle.load(open(BASE_PATH/'VAE-1_16_32_64-16-MNIST'/'VAE-1_16_32_64-16_iter50_nt100_nsamp120_results.pkl', \"rb\"))\n",
    "\n",
    "results['100: stochastic'] = pickle.load(open(BASE_PATH/'VAE-1_16_32_64-16-MNIST'/'VAE-1_16_32_64-16_iter50_nt100_nsamp200_results.pkl', \"rb\"))\n",
    "results['100: not stochastic'] = pickle.load(open(BASE_PATH/'VAE-1_16_32_64-16-MNIST'/'VAE-1_16_32_64-16_iter50_nt100_nsamp202_results.pkl', \"rb\"))\n",
    "\n",
    "\n",
    "\n",
    "for n_t, result in results.items():\n",
    "    acc = len(result[result['predicted_label']==result['true_label']])/len(result)\n",
    "    print(f'Number of times: {n_t}, Accuracy {acc}')"
   ]
  },
  {
   "cell_type": "code",
   "execution_count": 6,
   "metadata": {},
   "outputs": [
    {
     "name": "stdout",
     "output_type": "stream",
     "text": [
      "Number of times: 10, Accuracy 0.755\n",
      "Number of times: 25, Accuracy 0.765\n",
      "Number of times: 50, Accuracy 0.86\n",
      "Number of times: 100, Accuracy 0.875\n",
      "Deterministic: Number of times: 10, Accuracy 0.805\n",
      "Deterministic: Number of times: 25, Accuracy 0.85\n",
      "Deterministic: Number of times: 50, Accuracy 0.9\n",
      "Deterministic: Number of times: 100, Accuracy 0.91\n"
     ]
    }
   ],
   "source": [
    "results= {}\n",
    "results[10] = pickle.load(open(BASE_PATH/'VAE-1_16_32_64-16-MNIST'/'VAE-1_16_32_64-16_iter50_nt10_nsamp200_results.pkl', \"rb\"))\n",
    "results[25] = pickle.load(open(BASE_PATH/'VAE-1_16_32_64-16-MNIST'/'VAE-1_16_32_64-16_iter50_nt25_nsamp200_results.pkl', \"rb\"))\n",
    "results[50] = pickle.load(open(BASE_PATH/'VAE-1_16_32_64-16-MNIST'/'VAE-1_16_32_64-16_iter50_nt50_nsamp200_results.pkl', \"rb\"))\n",
    "results[100] = pickle.load(open(BASE_PATH/'VAE-1_16_32_64-16-MNIST'/'VAE-1_16_32_64-16_iter50_nt100_nsamp200_results.pkl', \"rb\"))\n",
    "# results[200] = pickle.load(open(BASE_PATH/'VAE-1_16_32_64-16-MNIST'/'VAE-1_16_32_64-16_iter50_nt200_nsamp200_results.pkl', \"rb\"))\n",
    "\n",
    "\n",
    "results_d= {}\n",
    "results_d[10] = pickle.load(open(BASE_PATH/'VAE-1_16_32_64-16-MNIST'/'VAE-1_16_32_64-16_iter50_nt10_nsamp200_deter_results.pkl', \"rb\"))\n",
    "results_d[25] = pickle.load(open(BASE_PATH/'VAE-1_16_32_64-16-MNIST'/'VAE-1_16_32_64-16_iter50_nt25_nsamp200_deter_results.pkl', \"rb\"))\n",
    "results_d[50] = pickle.load(open(BASE_PATH/'VAE-1_16_32_64-16-MNIST'/'VAE-1_16_32_64-16_iter50_nt50_nsamp200_deter_results.pkl', \"rb\"))\n",
    "results_d[100] = pickle.load(open(BASE_PATH/'VAE-1_16_32_64-16-MNIST'/'VAE-1_16_32_64-16_iter50_nt100_nsamp200_deter_results.pkl', \"rb\"))\n",
    "# results_d[200] = pickle.load(open(BASE_PATH/'VAE-1_16_32_64-16-MNIST'/'VAE-1_16_32_64-16_iter50_nt200_nsamp200_deter_results.pkl', \"rb\"))\n",
    "\n",
    "\n",
    "for n_t, result in results.items():\n",
    "    acc = len(result[result['predicted_label']==result['true_label']])/len(result)\n",
    "    print(f'Number of times: {n_t}, Accuracy {acc}')\n",
    "    \n",
    "for n_t, result in results_d.items():\n",
    "    acc = len(result[result['predicted_label']==result['true_label']])/len(result)\n",
    "    print(f'Deterministic: Number of times: {n_t}, Accuracy {acc}')"
   ]
  },
  {
   "cell_type": "code",
   "execution_count": 19,
   "metadata": {},
   "outputs": [
    {
     "data": {
      "text/html": [
       "<div>\n",
       "<style scoped>\n",
       "    .dataframe tbody tr th:only-of-type {\n",
       "        vertical-align: middle;\n",
       "    }\n",
       "\n",
       "    .dataframe tbody tr th {\n",
       "        vertical-align: top;\n",
       "    }\n",
       "\n",
       "    .dataframe thead th {\n",
       "        text-align: right;\n",
       "    }\n",
       "</style>\n",
       "<table border=\"1\" class=\"dataframe\">\n",
       "  <thead>\n",
       "    <tr style=\"text-align: right;\">\n",
       "      <th></th>\n",
       "      <th>0</th>\n",
       "      <th>1</th>\n",
       "      <th>2</th>\n",
       "      <th>3</th>\n",
       "      <th>4</th>\n",
       "      <th>5</th>\n",
       "      <th>6</th>\n",
       "      <th>7</th>\n",
       "      <th>8</th>\n",
       "      <th>9</th>\n",
       "      <th>path</th>\n",
       "      <th>predicted_label</th>\n",
       "      <th>true_label</th>\n",
       "    </tr>\n",
       "  </thead>\n",
       "  <tbody>\n",
       "    <tr>\n",
       "      <th>0</th>\n",
       "      <td>-824.022095</td>\n",
       "      <td>-724.793457</td>\n",
       "      <td>-819.481140</td>\n",
       "      <td>-751.972412</td>\n",
       "      <td>-827.379578</td>\n",
       "      <td>-864.458496</td>\n",
       "      <td>-780.383545</td>\n",
       "      <td>-848.294617</td>\n",
       "      <td>-771.382019</td>\n",
       "      <td>-922.953613</td>\n",
       "      <td>(/media/rene/data/adv_gen/MNIST/mnist_normal/v...</td>\n",
       "      <td>1.0</td>\n",
       "      <td>6.0</td>\n",
       "    </tr>\n",
       "    <tr>\n",
       "      <th>1</th>\n",
       "      <td>-822.868042</td>\n",
       "      <td>-771.183838</td>\n",
       "      <td>-734.845825</td>\n",
       "      <td>-806.033447</td>\n",
       "      <td>-787.630249</td>\n",
       "      <td>-772.286621</td>\n",
       "      <td>-753.981445</td>\n",
       "      <td>-812.417603</td>\n",
       "      <td>-762.667297</td>\n",
       "      <td>-763.474915</td>\n",
       "      <td>(/media/rene/data/adv_gen/MNIST/mnist_normal/v...</td>\n",
       "      <td>2.0</td>\n",
       "      <td>6.0</td>\n",
       "    </tr>\n",
       "  </tbody>\n",
       "</table>\n",
       "</div>"
      ],
      "text/plain": [
       "            0           1           2           3           4           5  \\\n",
       "0 -824.022095 -724.793457 -819.481140 -751.972412 -827.379578 -864.458496   \n",
       "1 -822.868042 -771.183838 -734.845825 -806.033447 -787.630249 -772.286621   \n",
       "\n",
       "            6           7           8           9  \\\n",
       "0 -780.383545 -848.294617 -771.382019 -922.953613   \n",
       "1 -753.981445 -812.417603 -762.667297 -763.474915   \n",
       "\n",
       "                                                path  predicted_label  \\\n",
       "0  (/media/rene/data/adv_gen/MNIST/mnist_normal/v...              1.0   \n",
       "1  (/media/rene/data/adv_gen/MNIST/mnist_normal/v...              2.0   \n",
       "\n",
       "   true_label  \n",
       "0         6.0  \n",
       "1         6.0  "
      ]
     },
     "metadata": {},
     "output_type": "display_data"
    }
   ],
   "source": [
    "results = pickle.load(open('/media/rene/data/adv_gen/MNIST/mnist_normal/models/VAE_ABS/VAE_ABS--8_iter50_nt10_nsamp2_results.pkl', \"rb\"))\n",
    "display(results)"
   ]
  }
 ],
 "metadata": {
  "kernelspec": {
   "display_name": "ADV",
   "language": "python",
   "name": "adv"
  },
  "language_info": {
   "codemirror_mode": {
    "name": "ipython",
    "version": 3
   },
   "file_extension": ".py",
   "mimetype": "text/x-python",
   "name": "python",
   "nbconvert_exporter": "python",
   "pygments_lexer": "ipython3",
   "version": "3.6.3"
  }
 },
 "nbformat": 4,
 "nbformat_minor": 2
}
