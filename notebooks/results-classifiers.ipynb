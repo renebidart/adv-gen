{
 "cells": [
  {
   "cell_type": "markdown",
   "metadata": {},
   "source": [
    "# Evaluate Generative Classifiers on Non-Adversarial Samples"
   ]
  },
  {
   "cell_type": "code",
   "execution_count": 1,
   "metadata": {},
   "outputs": [
    {
     "name": "stdout",
     "output_type": "stream",
     "text": [
      "cuda:1\n",
      "0\n"
     ]
    }
   ],
   "source": [
    "import os\n",
    "import sys\n",
    "import pickle\n",
    "import numpy as np\n",
    "import pandas as pd\n",
    "from pathlib import Path\n",
    "import matplotlib.pyplot as plt\n",
    "from matplotlib.pyplot import imshow\n",
    "from IPython.display import display, HTML\n",
    "%reload_ext autoreload\n",
    "%autoreload 2\n",
    "%matplotlib inline\n",
    "\n",
    "# Nicer way to import the module?\n",
    "sys.path.append(str(Path.cwd().parent))\n",
    "from utils.loading import load_net\n",
    "from utils.display import torch_to_np, show_imgs\n",
    "from models.generative_classify import optimize_latent_cvae, gen_classify_cvae, optimize_latent, gen_classify\n",
    "\n",
    "import torch\n",
    "from torch import nn\n",
    "from torch.autograd import Variable\n",
    "from torchvision import transforms\n",
    "from torch.nn import functional as F\n",
    "import torch.optim as optim\n",
    "\n",
    "import foolbox\n",
    "import json\n",
    "from PIL import Image\n",
    "\n",
    "device = torch.device(\"cuda:1\" if torch.cuda.is_available() else \"cpu\")\n",
    "print(device)\n",
    "print(torch.cuda.current_device())\n",
    "\n",
    "BASE_PATH = Path('/media/rene/data/adv_gen/MNIST/mnist_normal/models')"
   ]
  },
  {
   "cell_type": "markdown",
   "metadata": {},
   "source": [
    "## CVAE Results"
   ]
  },
  {
   "cell_type": "code",
   "execution_count": 7,
   "metadata": {},
   "outputs": [
    {
     "name": "stdout",
     "output_type": "stream",
     "text": [
      "Number of times: 10, Accuracy 0.7\n",
      "Number of times: 25, Accuracy 0.765\n",
      "Number of times: 50, Accuracy 0.86\n",
      "Number of times: 100, Accuracy 0.86\n",
      "Deterministic: Number of times: 10, Accuracy 0.775\n",
      "Deterministic: Number of times: 25, Accuracy 0.885\n",
      "Deterministic: Number of times: 50, Accuracy 0.855\n",
      "Deterministic: Number of times: 100, Accuracy 0.91\n"
     ]
    }
   ],
   "source": [
    "results= {}\n",
    "results[10] = pickle.load(open(BASE_PATH/'CVAE'/'CVAE-1_16_32_64-16-MNIST_iter50_nt10_nsamp200_results.pkl', \"rb\"))\n",
    "results[25] = pickle.load(open(BASE_PATH/'CVAE'/'CVAE-1_16_32_64-16-MNIST_iter50_nt25_nsamp200_results.pkl', \"rb\"))\n",
    "results[50] = pickle.load(open(BASE_PATH/'CVAE'/'CVAE-1_16_32_64-16-MNIST_iter50_nt50_nsamp200_results.pkl', \"rb\"))\n",
    "results[100] = pickle.load(open(BASE_PATH/'CVAE'/'CVAE-1_16_32_64-16-MNIST_iter50_nt100_nsamp200_results.pkl', \"rb\"))\n",
    "\n",
    "results_d= {}\n",
    "results_d[10] = pickle.load(open(BASE_PATH/'CVAE'/'CVAE-1_16_32_64-16-MNIST_iter50_nt10_nsamp200_deter_results.pkl', \"rb\"))\n",
    "results_d[25] = pickle.load(open(BASE_PATH/'CVAE'/'CVAE-1_16_32_64-16-MNIST_iter50_nt25_nsamp200_deter_results.pkl', \"rb\"))\n",
    "results_d[50] = pickle.load(open(BASE_PATH/'CVAE'/'CVAE-1_16_32_64-16-MNIST_iter50_nt50_nsamp200_deter_results.pkl', \"rb\"))\n",
    "results_d[100] = pickle.load(open(BASE_PATH/'CVAE'/'CVAE-1_16_32_64-16-MNIST_iter50_nt100_nsamp200_deter_results.pkl', \"rb\"))\n",
    "\n",
    "for n_t, result in results.items():\n",
    "    acc = len(result[result['predicted_label']==result['true_label']])/len(result)\n",
    "    print(f'Number of times: {n_t}, Accuracy {acc}')\n",
    "    \n",
    "for n_t, result in results_d.items():\n",
    "    acc = len(result[result['predicted_label']==result['true_label']])/len(result)\n",
    "    print(f'Deterministic: Number of times: {n_t}, Accuracy {acc}')"
   ]
  },
  {
   "cell_type": "markdown",
   "metadata": {},
   "source": [
    "## Paper VAE_ABS Results"
   ]
  },
  {
   "cell_type": "code",
   "execution_count": 5,
   "metadata": {},
   "outputs": [
    {
     "name": "stdout",
     "output_type": "stream",
     "text": [
      "Number of times: 10, Accuracy 0.695\n",
      "Number of times: 25, Accuracy 0.835\n",
      "Number of times: 50, Accuracy 0.84\n",
      "Number of times: 100, Accuracy 0.89\n",
      "Deterministic: Number of times: 10, Accuracy 0.84\n",
      "Deterministic: Number of times: 25, Accuracy 0.855\n",
      "Deterministic: Number of times: 50, Accuracy 0.895\n",
      "Deterministic: Number of times: 100, Accuracy 0.94\n"
     ]
    }
   ],
   "source": [
    "results= {}\n",
    "results[10] = pickle.load(open(BASE_PATH/'VAE_ABS'/'VAE_ABS--8_iter50_nt10_nsamp200_results.pkl', \"rb\"))\n",
    "results[25] = pickle.load(open(BASE_PATH/'VAE_ABS'/'VAE_ABS--8_iter50_nt25_nsamp200_results.pkl', \"rb\"))\n",
    "results[50] = pickle.load(open(BASE_PATH/'VAE_ABS'/'VAE_ABS--8_iter50_nt50_nsamp200_results.pkl', \"rb\"))\n",
    "results[100] = pickle.load(open(BASE_PATH/'VAE_ABS'/'VAE_ABS--8_iter50_nt100_nsamp200_results.pkl', \"rb\"))\n",
    "\n",
    "results_d= {}\n",
    "results_d[10] = pickle.load(open(BASE_PATH/'VAE_ABS'/'VAE_ABS--8_iter50_nt10_nsamp200_deter_results.pkl', \"rb\"))\n",
    "results_d[25] = pickle.load(open(BASE_PATH/'VAE_ABS'/'VAE_ABS--8_iter50_nt25_nsamp200_deter_results.pkl', \"rb\"))\n",
    "results_d[50] = pickle.load(open(BASE_PATH/'VAE_ABS'/'VAE_ABS--8_iter50_nt50_nsamp200_deter_results.pkl', \"rb\"))\n",
    "results_d[100] = pickle.load(open(BASE_PATH/'VAE_ABS'/'VAE_ABS--8_iter50_nt100_nsamp200_deter_results.pkl', \"rb\"))\n",
    "\n",
    "for n_t, result in results.items():\n",
    "    acc = len(result[result['predicted_label']==result['true_label']])/len(result)\n",
    "    print(f'Number of times: {n_t}, Accuracy {acc}')\n",
    "    \n",
    "for n_t, result in results_d.items():\n",
    "    acc = len(result[result['predicted_label']==result['true_label']])/len(result)\n",
    "    print(f'Deterministic: Number of times: {n_t}, Accuracy {acc}')"
   ]
  },
  {
   "cell_type": "markdown",
   "metadata": {},
   "source": [
    "## VAE"
   ]
  },
  {
   "cell_type": "code",
   "execution_count": 6,
   "metadata": {},
   "outputs": [
    {
     "name": "stdout",
     "output_type": "stream",
     "text": [
      "Number of times: 10, Accuracy 0.755\n",
      "Number of times: 25, Accuracy 0.765\n",
      "Number of times: 50, Accuracy 0.86\n",
      "Number of times: 100, Accuracy 0.875\n",
      "Deterministic: Number of times: 10, Accuracy 0.805\n",
      "Deterministic: Number of times: 25, Accuracy 0.85\n",
      "Deterministic: Number of times: 50, Accuracy 0.9\n",
      "Deterministic: Number of times: 100, Accuracy 0.91\n"
     ]
    }
   ],
   "source": [
    "results= {}\n",
    "results[10] = pickle.load(open(BASE_PATH/'VAE-1_16_32_64-16-MNIST'/'VAE-1_16_32_64-16_iter50_nt10_nsamp200_results.pkl', \"rb\"))\n",
    "results[25] = pickle.load(open(BASE_PATH/'VAE-1_16_32_64-16-MNIST'/'VAE-1_16_32_64-16_iter50_nt25_nsamp200_results.pkl', \"rb\"))\n",
    "results[50] = pickle.load(open(BASE_PATH/'VAE-1_16_32_64-16-MNIST'/'VAE-1_16_32_64-16_iter50_nt50_nsamp200_results.pkl', \"rb\"))\n",
    "results[100] = pickle.load(open(BASE_PATH/'VAE-1_16_32_64-16-MNIST'/'VAE-1_16_32_64-16_iter50_nt100_nsamp200_results.pkl', \"rb\"))\n",
    "# results[200] = pickle.load(open(BASE_PATH/'VAE-1_16_32_64-16-MNIST'/'VAE-1_16_32_64-16_iter50_nt200_nsamp200_results.pkl', \"rb\"))\n",
    "\n",
    "\n",
    "results_d= {}\n",
    "results_d[10] = pickle.load(open(BASE_PATH/'VAE-1_16_32_64-16-MNIST'/'VAE-1_16_32_64-16_iter50_nt10_nsamp200_deter_results.pkl', \"rb\"))\n",
    "results_d[25] = pickle.load(open(BASE_PATH/'VAE-1_16_32_64-16-MNIST'/'VAE-1_16_32_64-16_iter50_nt25_nsamp200_deter_results.pkl', \"rb\"))\n",
    "results_d[50] = pickle.load(open(BASE_PATH/'VAE-1_16_32_64-16-MNIST'/'VAE-1_16_32_64-16_iter50_nt50_nsamp200_deter_results.pkl', \"rb\"))\n",
    "results_d[100] = pickle.load(open(BASE_PATH/'VAE-1_16_32_64-16-MNIST'/'VAE-1_16_32_64-16_iter50_nt100_nsamp200_deter_results.pkl', \"rb\"))\n",
    "# results_d[200] = pickle.load(open(BASE_PATH/'VAE-1_16_32_64-16-MNIST'/'VAE-1_16_32_64-16_iter50_nt200_nsamp200_deter_results.pkl', \"rb\"))\n",
    "\n",
    "\n",
    "for n_t, result in results.items():\n",
    "    acc = len(result[result['predicted_label']==result['true_label']])/len(result)\n",
    "    print(f'Number of times: {n_t}, Accuracy {acc}')\n",
    "    \n",
    "for n_t, result in results_d.items():\n",
    "    acc = len(result[result['predicted_label']==result['true_label']])/len(result)\n",
    "    print(f'Deterministic: Number of times: {n_t}, Accuracy {acc}')"
   ]
  },
  {
   "cell_type": "markdown",
   "metadata": {},
   "source": [
    "## CVAE ABS"
   ]
  },
  {
   "cell_type": "code",
   "execution_count": 8,
   "metadata": {},
   "outputs": [
    {
     "name": "stdout",
     "output_type": "stream",
     "text": [
      "Number of times: 10, Accuracy 0.76\n",
      "Number of times: 25, Accuracy 0.83\n",
      "Number of times: 50, Accuracy 0.86\n",
      "Number of times: 100, Accuracy 0.855\n"
     ]
    }
   ],
   "source": [
    "results= {}\n",
    "results[10] = pickle.load(open(BASE_PATH/'CVAE'/'CVAE_ABS-8_iter50_nt10_nsamp200_deter_results.pkl', \"rb\"))\n",
    "results[25] = pickle.load(open(BASE_PATH/'CVAE'/'CVAE_ABS-8_iter50_nt25_nsamp200_deter_results.pkl', \"rb\"))\n",
    "results[50] = pickle.load(open(BASE_PATH/'CVAE'/'CVAE_ABS-8_iter50_nt50_nsamp200_deter_results.pkl', \"rb\"))\n",
    "results[100] = pickle.load(open(BASE_PATH/'CVAE'/'CVAE_ABS-8_iter50_nt100_nsamp200_deter_results.pkl', \"rb\"))\n",
    "\n",
    "for n_t, result in results.items():\n",
    "    acc = len(result[result['predicted_label']==result['true_label']])/len(result)\n",
    "    print(f'Number of times: {n_t}, Accuracy {acc}')"
   ]
  },
  {
   "cell_type": "code",
   "execution_count": null,
   "metadata": {},
   "outputs": [],
   "source": []
  }
 ],
 "metadata": {
  "kernelspec": {
   "display_name": "ADV",
   "language": "python",
   "name": "adv"
  },
  "language_info": {
   "codemirror_mode": {
    "name": "ipython",
    "version": 3
   },
   "file_extension": ".py",
   "mimetype": "text/x-python",
   "name": "python",
   "nbconvert_exporter": "python",
   "pygments_lexer": "ipython3",
   "version": "3.6.3"
  }
 },
 "nbformat": 4,
 "nbformat_minor": 2
}
