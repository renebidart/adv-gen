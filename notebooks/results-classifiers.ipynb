{
 "cells": [
  {
   "cell_type": "markdown",
   "metadata": {},
   "source": [
    "# Evaluate Generative Classifiers on Non-Adversarial Samples"
   ]
  },
  {
   "cell_type": "code",
   "execution_count": 3,
   "metadata": {},
   "outputs": [
    {
     "name": "stdout",
     "output_type": "stream",
     "text": [
      "cuda:1\n",
      "0\n"
     ]
    }
   ],
   "source": [
    "import os\n",
    "import sys\n",
    "import pickle\n",
    "import numpy as np\n",
    "import pandas as pd\n",
    "from pathlib import Path\n",
    "import matplotlib.pyplot as plt\n",
    "from matplotlib.pyplot import imshow\n",
    "from IPython.display import display, HTML\n",
    "%reload_ext autoreload\n",
    "%autoreload 2\n",
    "%matplotlib inline\n",
    "\n",
    "# Nicer way to import the module?\n",
    "sys.path.append(str(Path.cwd().parent))\n",
    "from utils.loading import load_net\n",
    "from utils.display import torch_to_np, show_imgs\n",
    "from models.generative_classify import optimize_latent_cvae, gen_classify_cvae, optimize_latent, gen_classify\n",
    "\n",
    "import torch\n",
    "from torch import nn\n",
    "from torch.autograd import Variable\n",
    "from torchvision import transforms\n",
    "from torch.nn import functional as F\n",
    "import torch.optim as optim\n",
    "\n",
    "import foolbox\n",
    "import json\n",
    "from PIL import Image\n",
    "\n",
    "device = torch.device(\"cuda:1\" if torch.cuda.is_available() else \"cpu\")\n",
    "print(device)\n",
    "print(torch.cuda.current_device())\n",
    "\n",
    "BASE_PATH = Path('/media/rene/data/adv_gen/MNIST/mnist_normal/models')"
   ]
  },
  {
   "cell_type": "markdown",
   "metadata": {},
   "source": [
    "## CVAE Results"
   ]
  },
  {
   "cell_type": "code",
   "execution_count": 9,
   "metadata": {},
   "outputs": [
    {
     "name": "stdout",
     "output_type": "stream",
     "text": [
      "Number of times: 10, Accuracy 0.77\n",
      "Number of times: 100, Accuracy 0.88\n",
      "Number of times: 200, Accuracy 0.94\n",
      "Number of times: 1000, Accuracy 0.95\n",
      "Number of times: 10023, Accuracy 0.8260869565217391\n"
     ]
    }
   ],
   "source": [
    "results= {}\n",
    "results[10] = pickle.load(open(BASE_PATH / 'CVAE-1_16_32_64-16-MNIST_iter50_nt10_nsamp100_results.pkl', \"rb\"))\n",
    "results[100] = pickle.load(open(BASE_PATH / 'CVAE-1_16_32_64-16-MNIST-10_model_best_100__results.pkl', \"rb\"))\n",
    "results[200] = pickle.load(open(BASE_PATH / 'CVAE-1_16_32_64-16-MNIST_iter50_nt200_nsamp100_results.pkl', \"rb\"))\n",
    "results[1000] = pickle.load(open(BASE_PATH / 'CVAE-1_16_32_64-16-MNIST_iter50_nt1000_nsamp100_results.pkl', \"rb\"))\n",
    "results[100_23] = pickle.load(open(BASE_PATH / 'CVAE-1_16_32_64-16-MNIST_iter50_nt100_nsamp23_results.pkl', \"rb\"))\n",
    "\n",
    "for n_t, result in results.items():\n",
    "    acc = len(result[result['predicted_label']==result['true_label']])/len(result)\n",
    "    print(f'Number of times: {n_t}, Accuracy {acc}')"
   ]
  },
  {
   "cell_type": "markdown",
   "metadata": {},
   "source": [
    "## Paper VAE_ABS Results"
   ]
  },
  {
   "cell_type": "code",
   "execution_count": 5,
   "metadata": {},
   "outputs": [
    {
     "name": "stdout",
     "output_type": "stream",
     "text": [
      "Number of times: 10, Accuracy 0.74\n",
      "Number of times: 100, Accuracy 0.86\n",
      "Number of times: 1000, Accuracy 0.98\n"
     ]
    }
   ],
   "source": [
    "results= {}\n",
    "results[10] = pickle.load(open(BASE_PATH/'VAE_ABS'/'VAE_ABS--8_iter50_nt10_nsamp100_results.pkl', \"rb\"))\n",
    "results[100] = pickle.load(open(BASE_PATH/'VAE_ABS'/'VAE_ABS--8_iter50_nt100_nsamp100_results.pkl', \"rb\"))\n",
    "results[1000] = pickle.load(open(BASE_PATH/'VAE_ABS'/'VAE_ABS--8_iter50_nt1000_nsamp100_results.pkl', \"rb\"))\n",
    "\n",
    "for n_t, result in results.items():\n",
    "    acc = len(result[result['predicted_label']==result['true_label']])/len(result)\n",
    "    print(f'Number of times: {n_t}, Accuracy {acc}')"
   ]
  },
  {
   "cell_type": "markdown",
   "metadata": {},
   "source": [
    "## VAE"
   ]
  },
  {
   "cell_type": "code",
   "execution_count": 7,
   "metadata": {},
   "outputs": [
    {
     "name": "stdout",
     "output_type": "stream",
     "text": [
      "Number of times: 10, Accuracy 0.75\n",
      "Number of times: 100, Accuracy 0.89\n",
      "Number of times: 200, Accuracy 0.86\n"
     ]
    }
   ],
   "source": [
    "results= {}\n",
    "results[10] = pickle.load(open(BASE_PATH/'VAE-1_16_32_64-16-MNIST'/'VAE-1_16_32_64-16_iter50_nt10_nsamp100_results.pkl', \"rb\"))\n",
    "results[100] = pickle.load(open(BASE_PATH/'VAE-1_16_32_64-16-MNIST'/'VAE-1_16_32_64-16_iter50_nt100_nsamp100_results.pkl', \"rb\"))\n",
    "results[200] = pickle.load(open(BASE_PATH/'VAE-1_16_32_64-16-MNIST'/'VAE-1_16_32_64-16_iter50_nt200_nsamp100_results.pkl', \"rb\"))\n",
    "# results[1000] = pickle.load(open(BASE_PATH/'VAE-1_16_32_64-16-MNIST'/'VAE-1_16_32_64-16_iter50_nt1000_nsamp100_results.pkl', \"rb\"))\n",
    "\n",
    "\n",
    "\n",
    "for n_t, result in results.items():\n",
    "    acc = len(result[result['predicted_label']==result['true_label']])/len(result)\n",
    "    print(f'Number of times: {n_t}, Accuracy {acc}')"
   ]
  },
  {
   "cell_type": "code",
   "execution_count": null,
   "metadata": {},
   "outputs": [],
   "source": []
  }
 ],
 "metadata": {
  "kernelspec": {
   "display_name": "ADV",
   "language": "python",
   "name": "adv"
  },
  "language_info": {
   "codemirror_mode": {
    "name": "ipython",
    "version": 3
   },
   "file_extension": ".py",
   "mimetype": "text/x-python",
   "name": "python",
   "nbconvert_exporter": "python",
   "pygments_lexer": "ipython3",
   "version": "3.6.3"
  }
 },
 "nbformat": 4,
 "nbformat_minor": 2
}
