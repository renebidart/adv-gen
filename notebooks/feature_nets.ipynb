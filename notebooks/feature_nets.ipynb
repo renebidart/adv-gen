{
 "cells": [
  {
   "cell_type": "code",
   "execution_count": 1,
   "metadata": {},
   "outputs": [
    {
     "name": "stdout",
     "output_type": "stream",
     "text": [
      "cuda:1\n",
      "0\n"
     ]
    }
   ],
   "source": [
    "import os\n",
    "import sys\n",
    "import pickle\n",
    "import numpy as np\n",
    "import pandas as pd\n",
    "from pathlib import Path\n",
    "import matplotlib.pyplot as plt\n",
    "from matplotlib.pyplot import imshow\n",
    "from IPython.display import display, HTML\n",
    "%reload_ext autoreload\n",
    "%autoreload 2\n",
    "%matplotlib inline\n",
    "\n",
    "# Nicer way to import the module?\n",
    "sys.path.append(str(Path.cwd().parent))\n",
    "from utils.loading import load_net\n",
    "from utils.train_val import validate_epoch\n",
    "from utils.data import make_generators_DF_MNIST\n",
    "\n",
    "import torch\n",
    "from torch import nn\n",
    "from torch.autograd import Variable\n",
    "from torchvision import transforms\n",
    "from torch.nn import functional as F\n",
    "import torch.optim as optim\n",
    "\n",
    "import foolbox\n",
    "import json\n",
    "from PIL import Image\n",
    "\n",
    "device = torch.device(\"cuda:1\" if torch.cuda.is_available() else \"cpu\")\n",
    "print(device)\n",
    "print(torch.cuda.current_device())\n",
    "\n",
    "BASE_PATH = Path('/media/rene/data/adv_gen/MNIST/mnist_normal/feature_models')"
   ]
  },
  {
   "cell_type": "code",
   "execution_count": 4,
   "metadata": {},
   "outputs": [],
   "source": [
    "files_df_loc = '/media/rene/data/adv_gen/MNIST/mnist_normal/files_df.pkl'\n",
    "batch_size = 64\n",
    "num_workers = 2\n",
    "IM_SIZE = 28\n",
    "\n",
    "with open(files_df_loc, 'rb') as f:\n",
    "    files_df = pickle.load(f)\n",
    "\n",
    "dataloaders = make_generators_DF_MNIST(files_df, batch_size, num_workers, size=IM_SIZE,\n",
    "                                        path_colname='path', adv_path_colname=None, return_loc=False, normalize=True)"
   ]
  },
  {
   "cell_type": "code",
   "execution_count": 8,
   "metadata": {},
   "outputs": [
    {
     "name": "stdout",
     "output_type": "stream",
     "text": [
      "VALID:  * TOP1 98.690 TOP5 100.000 Loss (0.0000)\t Time (0.010)\t\n",
      "Model Name: SimpleNetMNIST-10_model_best.pth.tar: Accuracy: 98.68999481201172\n",
      "VALID:  * TOP1 98.900 TOP5 100.000 Loss (0.0000)\t Time (0.010)\t\n",
      "Model Name: SimpleNetMNIST-12_model_best.pth.tar: Accuracy: 98.89999389648438\n",
      "VALID:  * TOP1 98.870 TOP5 100.000 Loss (0.0000)\t Time (0.009)\t\n",
      "Model Name: SimpleNetMNIST-16_model_best.pth.tar: Accuracy: 98.8699951171875\n",
      "VALID:  * TOP1 98.850 TOP5 100.000 Loss (0.0000)\t Time (0.010)\t\n",
      "Model Name: SimpleNetMNIST-20_model_best.pth.tar: Accuracy: 98.8499984741211\n",
      "VALID:  * TOP1 98.860 TOP5 100.000 Loss (0.0000)\t Time (0.010)\t\n",
      "Model Name: TopkNetMNIST-16-10_model_best.pth.tar: Accuracy: 98.86000061035156\n",
      "VALID:  * TOP1 98.830 TOP5 100.000 Loss (0.0000)\t Time (0.009)\t\n",
      "Model Name: TopkNetMNIST-16-8_model_best.pth.tar: Accuracy: 98.82999420166016\n",
      "VALID:  * TOP1 98.800 TOP5 99.990 Loss (0.0000)\t Time (0.010)\t\n",
      "Model Name: TopkNetMNIST-12-6_model_best.pth.tar: Accuracy: 98.79999542236328\n",
      "VALID:  * TOP1 98.720 TOP5 100.000 Loss (0.0000)\t Time (0.010)\t\n",
      "Model Name: TopkNetMNIST-10-5_model_best.pth.tar: Accuracy: 98.72000122070312\n"
     ]
    }
   ],
   "source": [
    "model_name_list = ['SimpleNetMNIST-10_model_best.pth.tar',\n",
    "                   'SimpleNetMNIST-12_model_best.pth.tar',\n",
    "                   'SimpleNetMNIST-16_model_best.pth.tar',\n",
    "                   'SimpleNetMNIST-20_model_best.pth.tar',\n",
    "                   'TopkNetMNIST-16-10_model_best.pth.tar',\n",
    "                   'TopkNetMNIST-16-8_model_best.pth.tar',\n",
    "                   'TopkNetMNIST-12-6_model_best.pth.tar',\n",
    "                   'TopkNetMNIST-10-5_model_best.pth.tar'\n",
    "                  ]\n",
    "\n",
    "for model_name in model_name_list:\n",
    "    model_loc = BASE_PATH / model_name\n",
    "    model = load_net(model_loc).to(device).eval()\n",
    "    acc, loss = validate_epoch(dataloaders['val'], model, device)\n",
    "    print(f'Model Name: {model_name}: Accuracy: {acc}')"
   ]
  },
  {
   "cell_type": "code",
   "execution_count": 5,
   "metadata": {},
   "outputs": [
    {
     "name": "stdout",
     "output_type": "stream",
     "text": [
      "VALID:  * TOP1 98.670 TOP5 100.000 Loss (0.0000)\t Time (0.010)\t\n",
      "Model Name: SimpleNetMNIST-10_model_best.pth.tar: Accuracy: 98.66999816894531\n",
      "VALID:  * TOP1 98.970 TOP5 99.980 Loss (0.0000)\t Time (0.010)\t\n",
      "Model Name: SimpleNetMNIST-12_model_best.pth.tar: Accuracy: 98.97000122070312\n",
      "VALID:  * TOP1 98.770 TOP5 99.990 Loss (0.0000)\t Time (0.011)\t\n",
      "Model Name: SimpleNetMNIST-16_model_best.pth.tar: Accuracy: 98.7699966430664\n",
      "VALID:  * TOP1 98.930 TOP5 99.990 Loss (0.0000)\t Time (0.010)\t\n",
      "Model Name: SimpleNetMNIST-20_model_best.pth.tar: Accuracy: 98.93000030517578\n",
      "VALID:  * TOP1 98.830 TOP5 100.000 Loss (0.0000)\t Time (0.010)\t\n",
      "Model Name: TopkNetMNIST-30-8_model_best.pth.tar: Accuracy: 98.82999420166016\n",
      "VALID:  * TOP1 98.900 TOP5 99.990 Loss (0.0000)\t Time (0.010)\t\n",
      "Model Name: TopkNetMNIST-16-10_model_best.pth.tar: Accuracy: 98.89999389648438\n",
      "VALID:  * TOP1 98.740 TOP5 100.000 Loss (0.0000)\t Time (0.010)\t\n",
      "Model Name: TopkNetMNIST-16-8_model_best.pth.tar: Accuracy: 98.73999786376953\n",
      "VALID:  * TOP1 98.850 TOP5 99.970 Loss (0.0000)\t Time (0.011)\t\n",
      "Model Name: TopkNetMNIST-12-6_model_best.pth.tar: Accuracy: 98.8499984741211\n",
      "VALID:  * TOP1 98.790 TOP5 100.000 Loss (0.0000)\t Time (0.009)\t\n",
      "Model Name: TopkNetMNIST-10-5_model_best.pth.tar: Accuracy: 98.79000091552734\n"
     ]
    }
   ],
   "source": [
    "model_name_list = ['SimpleNetMNIST-10_model_best.pth.tar',\n",
    "                   'SimpleNetMNIST-12_model_best.pth.tar',\n",
    "                   'SimpleNetMNIST-16_model_best.pth.tar',\n",
    "                   'SimpleNetMNIST-20_model_best.pth.tar',\n",
    "                   'TopkNetMNIST-30-8_model_best.pth.tar',\n",
    "                   'TopkNetMNIST-16-10_model_best.pth.tar',\n",
    "                   'TopkNetMNIST-16-8_model_best.pth.tar',\n",
    "                   'TopkNetMNIST-12-6_model_best.pth.tar',\n",
    "                   'TopkNetMNIST-10-5_model_best.pth.tar',\n",
    "                  ]\n",
    "\n",
    "for model_name in model_name_list:\n",
    "    model_loc = BASE_PATH / model_name\n",
    "    model = load_net(model_loc).to(device).eval()\n",
    "    acc, loss = validate_epoch(dataloaders['val'], model, device)\n",
    "    print(f'Model Name: {model_name}: Accuracy: {acc}')"
   ]
  },
  {
   "cell_type": "code",
   "execution_count": null,
   "metadata": {},
   "outputs": [],
   "source": [
    "model_loc = '/media/rene/data/adv_gen/MNIST/mnist_normal/feature_models'"
   ]
  },
  {
   "cell_type": "code",
   "execution_count": null,
   "metadata": {},
   "outputs": [],
   "source": []
  },
  {
   "cell_type": "code",
   "execution_count": null,
   "metadata": {},
   "outputs": [],
   "source": []
  }
 ],
 "metadata": {
  "kernelspec": {
   "display_name": "ADV",
   "language": "python",
   "name": "adv"
  },
  "language_info": {
   "codemirror_mode": {
    "name": "ipython",
    "version": 3
   },
   "file_extension": ".py",
   "mimetype": "text/x-python",
   "name": "python",
   "nbconvert_exporter": "python",
   "pygments_lexer": "ipython3",
   "version": "3.6.3"
  }
 },
 "nbformat": 4,
 "nbformat_minor": 2
}
