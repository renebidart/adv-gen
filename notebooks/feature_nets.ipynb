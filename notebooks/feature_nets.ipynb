{
 "cells": [
  {
   "cell_type": "markdown",
   "metadata": {},
   "source": [
    "# Create VAE with Intermediate Feature Activations\n"
   ]
  },
  {
   "cell_type": "code",
   "execution_count": 1,
   "metadata": {},
   "outputs": [
    {
     "name": "stdout",
     "output_type": "stream",
     "text": [
      "cuda:1\n",
      "0\n"
     ]
    }
   ],
   "source": [
    "import os\n",
    "import sys\n",
    "import pickle\n",
    "import numpy as np\n",
    "import pandas as pd\n",
    "from pathlib import Path\n",
    "import matplotlib.pyplot as plt\n",
    "from matplotlib.pyplot import imshow\n",
    "from IPython.display import display, HTML\n",
    "%reload_ext autoreload\n",
    "%autoreload 2\n",
    "%matplotlib inline\n",
    "\n",
    "# Nicer way to import the module?\n",
    "sys.path.append(str(Path.cwd().parent))\n",
    "from utils.loading import load_net, vae_from_args\n",
    "from utils.train_val import validate_epoch\n",
    "from utils.data import make_generators_DF_MNIST\n",
    "\n",
    "from models.FeatureVAE import FEAT_VAE_MNIST\n",
    "\n",
    "import torch\n",
    "from torch import nn\n",
    "from torch.autograd import Variable\n",
    "from torchvision import transforms\n",
    "from torch.nn import functional as F\n",
    "import torch.optim as optim\n",
    "\n",
    "import foolbox\n",
    "import json\n",
    "from PIL import Image\n",
    "\n",
    "device = torch.device(\"cuda:1\" if torch.cuda.is_available() else \"cpu\")\n",
    "print(device)\n",
    "print(torch.cuda.current_device())\n",
    "\n",
    "BASE_PATH = Path('/media/rene/data/adv_gen/MNIST/mnist_normal/feature_models')"
   ]
  },
  {
   "cell_type": "markdown",
   "metadata": {},
   "source": [
    "## Classifier Performance"
   ]
  },
  {
   "cell_type": "code",
   "execution_count": 2,
   "metadata": {},
   "outputs": [],
   "source": [
    "files_df_loc = '/media/rene/data/adv_gen/MNIST/mnist_normal/files_df.pkl'\n",
    "batch_size = 64\n",
    "num_workers = 2\n",
    "IM_SIZE = 28\n",
    "\n",
    "with open(files_df_loc, 'rb') as f:\n",
    "    files_df = pickle.load(f)\n",
    "\n",
    "dataloaders = make_generators_DF_MNIST(files_df, batch_size, num_workers, size=IM_SIZE,\n",
    "                                        path_colname='path', adv_path_colname=None, return_loc=False, normalize=True)"
   ]
  },
  {
   "cell_type": "code",
   "execution_count": 5,
   "metadata": {},
   "outputs": [
    {
     "name": "stdout",
     "output_type": "stream",
     "text": [
      "VALID:  * TOP1 98.820 TOP5 100.000 Loss (0.0000)\t Time (0.012)\t\n",
      "Model Name: SimpleNetMNIST-10_model_best.pth.tar: Accuracy: 98.81999969482422\n",
      "VALID:  * TOP1 98.810 TOP5 100.000 Loss (0.0000)\t Time (0.013)\t\n",
      "Model Name: SimpleNetMNIST-12_model_best.pth.tar: Accuracy: 98.80999755859375\n",
      "VALID:  * TOP1 98.740 TOP5 100.000 Loss (0.0000)\t Time (0.012)\t\n",
      "Model Name: SimpleNetMNIST-16_model_best.pth.tar: Accuracy: 98.73999786376953\n",
      "VALID:  * TOP1 98.880 TOP5 100.000 Loss (0.0000)\t Time (0.012)\t\n",
      "Model Name: SimpleNetMNIST-20_model_best.pth.tar: Accuracy: 98.87999725341797\n",
      "VALID:  * TOP1 98.520 TOP5 100.000 Loss (0.0000)\t Time (0.013)\t\n",
      "Model Name: TopkNetMNIST-16-10_model_best.pth.tar: Accuracy: 98.5199966430664\n",
      "VALID:  * TOP1 42.730 TOP5 87.050 Loss (0.0000)\t Time (0.013)\t\n",
      "Model Name: TopkNetMNIST-16-8_model_best.pth.tar: Accuracy: 42.72999954223633\n",
      "VALID:  * TOP1 56.720 TOP5 92.900 Loss (0.0000)\t Time (0.013)\t\n",
      "Model Name: TopkNetMNIST-12-6_model_best.pth.tar: Accuracy: 56.71999740600586\n",
      "VALID:  * TOP1 59.450 TOP5 94.970 Loss (0.0000)\t Time (0.012)\t\n",
      "Model Name: TopkNetMNIST-10-5_model_best.pth.tar: Accuracy: 59.44999694824219\n"
     ]
    }
   ],
   "source": [
    "model_name_list = ['SimpleNetMNIST-10_model_best.pth.tar',\n",
    "                   'SimpleNetMNIST-12_model_best.pth.tar',\n",
    "                   'SimpleNetMNIST-16_model_best.pth.tar',\n",
    "                   'SimpleNetMNIST-20_model_best.pth.tar',\n",
    "                   'TopkNetMNIST-16-10_model_best.pth.tar',\n",
    "                   'TopkNetMNIST-16-8_model_best.pth.tar',\n",
    "                   'TopkNetMNIST-12-6_model_best.pth.tar',\n",
    "                   'TopkNetMNIST-10-5_model_best.pth.tar'\n",
    "                  ]\n",
    "\n",
    "for model_name in model_name_list:\n",
    "    model_loc = BASE_PATH / model_name\n",
    "    model = load_net(model_loc).to(device).eval()\n",
    "    acc, loss = validate_epoch(dataloaders['val'], model, device)\n",
    "    print(f'Model Name: {model_name}: Accuracy: {acc}')"
   ]
  },
  {
   "cell_type": "markdown",
   "metadata": {},
   "source": [
    "## Feature VAE Classification Performance"
   ]
  },
  {
   "cell_type": "code",
   "execution_count": 3,
   "metadata": {},
   "outputs": [
    {
     "name": "stdout",
     "output_type": "stream",
     "text": [
      "Number of times: 10, Accuracy 0.88\n",
      "Number of times: 25, Accuracy 0.93\n",
      "Number of times: 50, Accuracy 0.97\n"
     ]
    }
   ],
   "source": [
    "results= {}\n",
    "results[10] = pickle.load(open(BASE_PATH/ 'FEAT_VAE_MNIST-6-10_iter50_nt10_nsamp200_deter_results.pkl', \"rb\"))\n",
    "results[25] = pickle.load(open(BASE_PATH/ 'FEAT_VAE_MNIST-6-10_iter50_nt25_nsamp200_deter_results.pkl', \"rb\"))\n",
    "results[50] = pickle.load(open(BASE_PATH/ 'FEAT_VAE_MNIST-6-10_iter50_nt50_nsamp200_deter_results.pkl', \"rb\"))\n",
    "# results[100] = pickle.load(open(BASE_PATH/'FEAT_VAE_MNIST-6-10_iter50_nt100_nsamp200_deter_results.pkl', \"rb\"))\n",
    "# results[1000] = pickle.load(open(BASE_PATH/'FEAT_VAE_MNIST-6-10_iter50_nt1000_nsamp200_deter_results.pkl', \"rb\"))\n",
    "\n",
    "for n_t, result in results.items():\n",
    "    acc = len(result[result['predicted_label']==result['true_label']])/len(result)\n",
    "    print(f'Number of times: {n_t}, Accuracy {acc}')"
   ]
  },
  {
   "cell_type": "code",
   "execution_count": 8,
   "metadata": {},
   "outputs": [],
   "source": [
    "model_loc = '/media/rene/data/adv_gen/MNIST/mnist_normal/feature_models'\n",
    "encoding_model_loc = '/media/rene/data/adv_gen/MNIST/mnist_normal/feature_models/SimpleNetMNIST-10_model_best.pth.tar'\n",
    "num_features = 10\n",
    "latent_size = 6"
   ]
  },
  {
   "cell_type": "code",
   "execution_count": 9,
   "metadata": {},
   "outputs": [],
   "source": [
    "model = FEAT_VAE_MNIST(encoding_model=load_net(encoding_model_loc).to(device),\n",
    "                             num_features=num_features,\n",
    "                             latent_size=latent_size)\n",
    "model = model.to(device)"
   ]
  },
  {
   "cell_type": "code",
   "execution_count": 18,
   "metadata": {},
   "outputs": [
    {
     "name": "stdout",
     "output_type": "stream",
     "text": [
      "<generator object Module.parameters at 0x7fc6bbc1e938>\n",
      "False\n",
      "False\n",
      "False\n",
      "False\n",
      "False\n",
      "False\n",
      "False\n",
      "False\n",
      "True\n",
      "True\n",
      "True\n",
      "True\n",
      "True\n",
      "True\n",
      "True\n",
      "True\n",
      "True\n",
      "True\n",
      "True\n",
      "True\n",
      "True\n",
      "True\n",
      "True\n",
      "True\n",
      "True\n",
      "True\n",
      "True\n",
      "True\n"
     ]
    }
   ],
   "source": [
    "print(model.encoding_model.parameters())\n",
    "\n",
    "for p in model.parameters():\n",
    "    print(p.requires_grad)"
   ]
  },
  {
   "cell_type": "code",
   "execution_count": 21,
   "metadata": {},
   "outputs": [
    {
     "data": {
      "text/plain": [
       "6"
      ]
     },
     "execution_count": 21,
     "metadata": {},
     "output_type": "execute_result"
    }
   ],
   "source": [
    "model_file = 'FEAT_VAE_MNIST-6-10-MNIST_label_4_model_best.pth.tar'\n",
    "int(model_file.split('-')[1].split('_')[0])"
   ]
  },
  {
   "cell_type": "code",
   "execution_count": 2,
   "metadata": {},
   "outputs": [
    {
     "name": "stdout",
     "output_type": "stream",
     "text": [
      "Number of times: 20_50, Accuracy 0.95\n"
     ]
    }
   ],
   "source": [
    "results= {}\n",
    "results['20_50'] = pickle.load(open(BASE_PATH/'FEAT_VAE_MNIST-6-10_iter100_nt50_nsamp20_deter_results.pkl', \"rb\"))\n",
    "\n",
    "for n_t, result in results.items():\n",
    "    acc = len(result[result['predicted_label']==result['true_label']])/len(result)\n",
    "    print(f'Number of times: {n_t}, Accuracy {acc}')"
   ]
  },
  {
   "cell_type": "code",
   "execution_count": null,
   "metadata": {},
   "outputs": [],
   "source": []
  },
  {
   "cell_type": "code",
   "execution_count": null,
   "metadata": {},
   "outputs": [],
   "source": []
  }
 ],
 "metadata": {
  "kernelspec": {
   "display_name": "ADV",
   "language": "python",
   "name": "adv"
  },
  "language_info": {
   "codemirror_mode": {
    "name": "ipython",
    "version": 3
   },
   "file_extension": ".py",
   "mimetype": "text/x-python",
   "name": "python",
   "nbconvert_exporter": "python",
   "pygments_lexer": "ipython3",
   "version": "3.6.3"
  }
 },
 "nbformat": 4,
 "nbformat_minor": 2
}
