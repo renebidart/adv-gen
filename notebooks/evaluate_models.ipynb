{
 "cells": [
  {
   "cell_type": "code",
   "execution_count": 1,
   "metadata": {},
   "outputs": [
    {
     "name": "stdout",
     "output_type": "stream",
     "text": [
      "cuda:1\n",
      "0\n"
     ]
    }
   ],
   "source": [
    "import os\n",
    "import sys\n",
    "import pickle\n",
    "import numpy as np\n",
    "import pandas as pd\n",
    "from pathlib import Path\n",
    "import matplotlib.pyplot as plt\n",
    "from matplotlib.pyplot import imshow\n",
    "from IPython.display import display, HTML\n",
    "%reload_ext autoreload\n",
    "%autoreload 2\n",
    "%matplotlib inline\n",
    "\n",
    "# Nicer way to import the module?\n",
    "sys.path.append(str(Path.cwd().parent))\n",
    "from models.cifar import ResNet\n",
    "\n",
    "from utils.loading import load_net_cifar\n",
    "\n",
    "from utils.data import make_generators_DF_cifar, make_generators_DF_MNIST\n",
    "from utils.loading import vae_from_args\n",
    "from utils.train_val_auto import validate_epoch_auto\n",
    "from utils.evaluation import evaluate_adv_files_df, get_metrics\n",
    "\n",
    "import torch\n",
    "from torch import nn\n",
    "from torch.autograd import Variable\n",
    "import torchvision.transforms as T\n",
    "import foolbox\n",
    "import json\n",
    "from PIL import Image\n",
    "\n",
    "device = torch.device(\"cuda:1\" if torch.cuda.is_available() else \"cpu\")\n",
    "print(device)\n",
    "print(torch.cuda.current_device())"
   ]
  },
  {
   "cell_type": "markdown",
   "metadata": {},
   "source": [
    "## Standard PreAct ResNet 18"
   ]
  },
  {
   "cell_type": "code",
   "execution_count": 21,
   "metadata": {},
   "outputs": [
    {
     "name": "stdout",
     "output_type": "stream",
     "text": [
      "Loading model_file preact_resnet-18_model_best.pth.tar\n",
      "VALID:  * TOP1 94.510 TOP5 99.750 Loss (0.0000)\t Time (0.019)\t\n",
      "Loading model_file preact_resnet-18_model_best.pth.tar\n",
      "VALID:  * TOP1 58.350 TOP5 95.249 Loss (0.0000)\t Time (0.019)\t\n"
     ]
    }
   ],
   "source": [
    "batch_size = 128\n",
    "num_workers = 4\n",
    "model_loc = '/media/rene/data/adv_consistency/cifar10/cifar10_normal/models/preact_resnet-18_model_best.pth.tar'\n",
    "files_df_loc = '/media/rene/data/adv_consistency/cifar10/cifar10_normal/files_df.pkl'\n",
    "adv_files_df_loc = '/media/rene/data/adv_consistency/cifar10/adv_fgsm/preact_resnet-18-0.05-1/files_df_adv.pkl'\n",
    "\n",
    "with open(files_df_loc , 'rb') as f:\n",
    "    files_df = pickle.load(f)\n",
    "with open(adv_files_df_loc , 'rb') as f:\n",
    "    adv_files_df = pickle.load(f)\n",
    "\n",
    "\n",
    "with torch.cuda.device(1):\n",
    "    dataloaders = make_generators_DF_cifar(files_df, batch_size, num_workers, size=32, \n",
    "                                            path_colname='path', adv_path_colname=None, return_loc=False)\n",
    "    model = load_net_cifar(model_loc).to(device).eval()\n",
    "    validate_epoch(dataloaders['val'], model, device)\n",
    "    \n",
    "    \n",
    "    dataloaders = make_generators_DF_cifar(adv_files_df, batch_size, num_workers, size=32, \n",
    "                                            path_colname='adv_path', adv_path_colname=None, return_loc=False)\n",
    "    model = load_net_cifar(model_loc).to(device).eval()\n",
    "    acc = validate_epoch(dataloaders['val'], model, device)"
   ]
  },
  {
   "cell_type": "markdown",
   "metadata": {},
   "source": [
    "## PreAct ResNet 18 with topK\n",
    "* Something going very wrong here"
   ]
  },
  {
   "cell_type": "code",
   "execution_count": 36,
   "metadata": {},
   "outputs": [
    {
     "name": "stdout",
     "output_type": "stream",
     "text": [
      "Loading model_file preact_resnet-18-0.05-1_model_best.pth.tar\n",
      "VALID:  * TOP1 80.440 TOP5 98.110 Loss (0.0000)\t Time (0.019)\t\n",
      "Loading model_file preact_resnet-18-0.05-1_model_best.pth.tar\n",
      "VALID:  * TOP1 35.695 TOP5 85.880 Loss (0.0000)\t Time (0.019)\t\n"
     ]
    }
   ],
   "source": [
    "batch_size = 128\n",
    "num_workers = 4\n",
    "model_loc = '/media/rene/data/adv_consistency/cifar10/cifar10_normal/models/preact_resnet-18-0.05-1_model_best.pth.tar'\n",
    "files_df_loc = '/media/rene/data/adv_consistency/cifar10/cifar10_normal/files_df.pkl'\n",
    "adv_files_df_loc = '/media/rene/data/adv_consistency/cifar10/adv_fgsm/preact_resnet-18-0.05-1/files_df_adv.pkl'\n",
    "\n",
    "with open(files_df_loc , 'rb') as f:\n",
    "    files_df = pickle.load(f)\n",
    "with open(adv_files_df_loc , 'rb') as f:\n",
    "    adv_files_df = pickle.load(f)\n",
    "\n",
    "\n",
    "with torch.cuda.device(1):\n",
    "    dataloaders = make_generators_DF_cifar(files_df, batch_size, num_workers, size=32, \n",
    "                                            path_colname='path', adv_path_colname=None, return_loc=False)\n",
    "    model = load_net_cifar(model_loc).to(device).eval()\n",
    "    validate_epoch(dataloaders['val'], model, device)\n",
    "\n",
    "\n",
    "    dataloaders = make_generators_DF_cifar(adv_files_df, batch_size, num_workers, size=32, \n",
    "                                            path_colname='adv_path', adv_path_colname=None, return_loc=False)\n",
    "    model = load_net_cifar(model_loc).to(device).eval()\n",
    "    acc = validate_epoch(dataloaders['val'], model, device)"
   ]
  },
  {
   "cell_type": "markdown",
   "metadata": {},
   "source": [
    "## ResNet 18 and 34 with No ReLU and topK instead"
   ]
  },
  {
   "cell_type": "code",
   "execution_count": 35,
   "metadata": {},
   "outputs": [
    {
     "name": "stdout",
     "output_type": "stream",
     "text": [
      "Loading model_file PResNetRegNoRelU-18-0.05-1_model_best.pth.tar\n",
      "VALID:  * TOP1 88.870 TOP5 99.490 Loss (0.0000)\t Time (0.107)\t\n",
      "Loading model_file PResNetRegNoRelU-34-0.05-1_model_best.pth.tar\n",
      "VALID:  * TOP1 89.540 TOP5 99.590 Loss (0.0000)\t Time (0.170)\t\n"
     ]
    }
   ],
   "source": [
    "batch_size = 128\n",
    "num_workers = 4\n",
    "files_df_loc = '/media/rene/data/adv_consistency/cifar10/cifar10_normal/files_df.pkl'\n",
    "\n",
    "with open(files_df_loc , 'rb') as f:\n",
    "    files_df = pickle.load(f)\n",
    "\n",
    "with torch.cuda.device(1):\n",
    "    model_loc = '/media/rene/data/adv_consistency/cifar10/cifar10_normal/models/PResNetRegNoRelU-18-0.05-1_model_best.pth.tar'\n",
    "    dataloaders = make_generators_DF_cifar(files_df, batch_size, num_workers, size=32, \n",
    "                                            path_colname='path', adv_path_colname=None, return_loc=False)\n",
    "    model = load_net_cifar(model_loc).to(device).eval()\n",
    "    validate_epoch(dataloaders['val'], model, device)\n",
    "\n",
    "    model_loc = '/media/rene/data/adv_consistency/cifar10/cifar10_normal/models/PResNetRegNoRelU-34-0.05-1_model_best.pth.tar'\n",
    "    model = load_net_cifar(model_loc).to(device).eval()\n",
    "    acc = validate_epoch(dataloaders['val'], model, device)"
   ]
  },
  {
   "cell_type": "markdown",
   "metadata": {},
   "source": [
    "## PreAct ResNet with no ReLU"
   ]
  },
  {
   "cell_type": "code",
   "execution_count": 4,
   "metadata": {},
   "outputs": [
    {
     "name": "stdout",
     "output_type": "stream",
     "text": [
      "Loading model_file PResNetRegNoRelU-34-0.05-1_model_best.pth.tar\n",
      "VALID:  * TOP1 89.540 TOP5 99.590 Loss (0.0000)\t Time (0.185)\t\n",
      "Loading model_file PResNetRegNoRelU-34-0.05-1_model_best.pth.tar\n",
      "VALID:  * TOP1 55.763 TOP5 99.498 Loss (0.0000)\t Time (0.172)\t\n"
     ]
    }
   ],
   "source": [
    "batch_size = 128\n",
    "num_workers = 4\n",
    "model_loc = '/media/rene/data/adv_consistency/cifar10/cifar10_normal/models/PResNetRegNoRelU-34-0.05-1_model_best.pth.tar'\n",
    "files_df_loc = '/media/rene/data/adv_consistency/cifar10/cifar10_normal/files_df.pkl'\n",
    "adv_files_df_loc = '/media/rene/data/adv_consistency/cifar10/adv_fgsm/PResNetRegNoRelU-34-0.05-1/files_df_adv.pkl'\n",
    "\n",
    "with open(files_df_loc , 'rb') as f:\n",
    "    files_df = pickle.load(f)\n",
    "with open(adv_files_df_loc , 'rb') as f:\n",
    "    adv_files_df = pickle.load(f)\n",
    "\n",
    "\n",
    "with torch.cuda.device(1):\n",
    "    dataloaders = make_generators_DF_cifar(files_df, batch_size, num_workers, size=32, \n",
    "                                            path_colname='path', adv_path_colname=None, return_loc=False)\n",
    "    model = load_net_cifar(model_loc).to(device).eval()\n",
    "    validate_epoch(dataloaders['val'], model, device)\n",
    "\n",
    "\n",
    "    dataloaders = make_generators_DF_cifar(adv_files_df, batch_size, num_workers, size=32, \n",
    "                                            path_colname='adv_path', adv_path_colname=None, return_loc=False)\n",
    "    model = load_net_cifar(model_loc).to(device).eval()\n",
    "    acc = validate_epoch(dataloaders['val'], model, device)"
   ]
  },
  {
   "cell_type": "code",
   "execution_count": null,
   "metadata": {},
   "outputs": [],
   "source": []
  }
 ],
 "metadata": {
  "kernelspec": {
   "display_name": "ADV",
   "language": "python",
   "name": "adv"
  },
  "language_info": {
   "codemirror_mode": {
    "name": "ipython",
    "version": 3
   },
   "file_extension": ".py",
   "mimetype": "text/x-python",
   "name": "python",
   "nbconvert_exporter": "python",
   "pygments_lexer": "ipython3",
   "version": "3.6.3"
  }
 },
 "nbformat": 4,
 "nbformat_minor": 2
}
