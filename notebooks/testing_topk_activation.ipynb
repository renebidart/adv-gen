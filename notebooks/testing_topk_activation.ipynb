{
 "cells": [
  {
   "cell_type": "markdown",
   "metadata": {},
   "source": [
    "# Top K Regularization\n",
    "* Let only the top activations in a location through.\n",
    "Must decide:\n",
    "1. How many of these layers should be in a net? Many or just a few? If idea is to try and manke it like an object detector, should be a few conv layers than a topk\n",
    "2. What k to use?\n",
    "3. Does it make sense to factor it into something like 4 blocks where each has a top 1 instead of doing an overall top 4?"
   ]
  },
  {
   "cell_type": "code",
   "execution_count": 67,
   "metadata": {},
   "outputs": [
    {
     "name": "stdout",
     "output_type": "stream",
     "text": [
      "2\n",
      "0\n"
     ]
    }
   ],
   "source": [
    "import os\n",
    "import sys\n",
    "import pickle\n",
    "import numpy as np\n",
    "import pandas as pd\n",
    "from pathlib import Path\n",
    "import matplotlib.pyplot as plt\n",
    "from matplotlib.pyplot import imshow\n",
    "from IPython.display import display, HTML\n",
    "%reload_ext autoreload\n",
    "%autoreload 2\n",
    "%matplotlib inline\n",
    "\n",
    "# Nicer way to import the module?\n",
    "sys.path.append(str(Path.cwd().parent))\n",
    "\n",
    "from models.cifar import PreActResNet\n",
    "from utils.display import load_image, show_img\n",
    "from utils.loading import load_net_cifar\n",
    "\n",
    "import torch\n",
    "from torch import nn\n",
    "from torch.autograd import Variable\n",
    "from torch.autograd.gradcheck import zero_gradients\n",
    "import torchvision.transforms as T\n",
    "import foolbox\n",
    "import json\n",
    "from PIL import Image\n",
    "\n",
    "device = torch.device(\"cuda:0\")\n",
    "print(torch.cuda.device_count())\n",
    "print(torch.cuda.current_device())"
   ]
  },
  {
   "cell_type": "markdown",
   "metadata": {},
   "source": [
    "## Test top k layer\n",
    "scatter just wants an array of the same shape as the missing values, so must feed it the top k array"
   ]
  },
  {
   "cell_type": "code",
   "execution_count": 64,
   "metadata": {},
   "outputs": [
    {
     "name": "stdout",
     "output_type": "stream",
     "text": [
      "tensor([[[[-1.3091, -0.2615, -0.8970],\n",
      "          [-1.3588,  0.0922,  0.5862],\n",
      "          [-0.8907, -0.9733,  1.6597]],\n",
      "\n",
      "         [[-0.0337, -1.0471,  1.0161],\n",
      "          [ 0.5645,  1.6145, -0.7098],\n",
      "          [ 0.3794, -0.6410,  1.3275]]]])\n",
      "tensor([[[[1, 0, 1],\n",
      "          [1, 1, 0],\n",
      "          [1, 1, 0]]]])\n",
      "tensor([[[[ 0.0000, -0.2615,  0.0000],\n",
      "          [ 0.0000,  0.0000,  0.5862],\n",
      "          [ 0.0000,  0.0000,  1.6597]],\n",
      "\n",
      "         [[-0.0337,  0.0000,  1.0161],\n",
      "          [ 0.5645,  1.6145,  0.0000],\n",
      "          [ 0.3794, -0.6410,  0.0000]]]])\n"
     ]
    }
   ],
   "source": [
    "x = torch.randn(1, 2, 3, 3)\n",
    "zeros = torch.zeros(x.shape)\n",
    "print(x)\n",
    "topk_num, topk_idx = torch.topk(x, k=1, dim=1)\n",
    "print(topk_idx)\n",
    "zeros.scatter_(dim=1, index=topk_idx, src=topk_num) \n",
    "print(zeros)"
   ]
  },
  {
   "cell_type": "code",
   "execution_count": 81,
   "metadata": {},
   "outputs": [
    {
     "name": "stdout",
     "output_type": "stream",
     "text": [
      "tensor([[[[1, 1, 1],\n",
      "          [1, 1, 1],\n",
      "          [1, 1, 1]],\n",
      "\n",
      "         [[1, 1, 1],\n",
      "          [1, 1, 1],\n",
      "          [1, 1, 1]],\n",
      "\n",
      "         [[1, 1, 1],\n",
      "          [1, 1, 1],\n",
      "          [1, 1, 1]],\n",
      "\n",
      "         [[1, 1, 1],\n",
      "          [1, 1, 1],\n",
      "          [1, 1, 1]]]], dtype=torch.uint8)\n"
     ]
    }
   ],
   "source": [
    "x = torch.randn(1, 4, 3, 3)\n",
    "x_1 = x\n",
    "groups = 2\n",
    "group_size = int(x.shape[1]/2)\n",
    "\n",
    "for group in range(groups):\n",
    "    curr_group = x[:, group*group_size: (group+1)*group_size, :, :]\n",
    "    x[:, group*group_size: (group+1)*group_size, :, :] = curr_group\n",
    "\n",
    "print(x==x_1)"
   ]
  },
  {
   "cell_type": "code",
   "execution_count": null,
   "metadata": {},
   "outputs": [],
   "source": []
  }
 ],
 "metadata": {
  "kernelspec": {
   "display_name": "ADV",
   "language": "python",
   "name": "adv"
  },
  "language_info": {
   "codemirror_mode": {
    "name": "ipython",
    "version": 3
   },
   "file_extension": ".py",
   "mimetype": "text/x-python",
   "name": "python",
   "nbconvert_exporter": "python",
   "pygments_lexer": "ipython3",
   "version": "3.6.3"
  }
 },
 "nbformat": 4,
 "nbformat_minor": 2
}
